{
 "cells": [
  {
   "cell_type": "code",
   "execution_count": 2,
   "metadata": {
    "ExecuteTime": {
     "end_time": "2019-04-29T22:20:51.493578Z",
     "start_time": "2019-04-29T22:20:49.928761Z"
    }
   },
   "outputs": [],
   "source": [
    "%matplotlib inline\n",
    "\n",
    "import os\n",
    "import multiprocess as mp\n",
    "import scipy.stats as ss\n",
    "import numpy as np\n",
    "import pandas as pd\n",
    "import h5py\n",
    "import bioframe.dask\n",
    "import cooltools\n",
    "import cooler\n",
    "from dask import dataframe as dd\n",
    "import glob \n",
    "# import bbi\n",
    "\n",
    "from itertools import combinations_with_replacement as comb\n",
    "import pyarrow.parquet\n",
    "import pyarrow as pa"
   ]
  },
  {
   "cell_type": "code",
   "execution_count": 14,
   "metadata": {
    "ExecuteTime": {
     "end_time": "2019-04-03T15:46:52.975273Z",
     "start_time": "2019-04-03T15:46:52.961027Z"
    }
   },
   "outputs": [
    {
     "data": {
      "text/plain": [
       "['/net/levsha/share/sergpolly/2019-02-19-uC-Nils-remap/results/pairs_library/U54-H1ESC4DN-FA-DSG-MNase-R1-T3__hg38.null.nodups.pairs.gz',\n",
       " '/net/levsha/share/sergpolly/2019-02-19-uC-Nils-remap/results/pairs_library/U54-HFFc64DN-FA-DSG-MNase-R1-T2__hg38.null.nodups.pairs.gz',\n",
       " '/net/levsha/share/sergpolly/2019-02-19-uC-Nils-remap/results/pairs_library/U54-HFFc64DN-FA-DSG-MNase-R1-T5__hg38.null.nodups.pairs.gz',\n",
       " '/net/levsha/share/sergpolly/2019-02-19-uC-Nils-remap/results/pairs_library/U54-H1ESC4DN-FA-DSG-MNase-R1-T1__hg38.null.nodups.pairs.gz',\n",
       " '/net/levsha/share/sergpolly/2019-02-19-uC-Nils-remap/results/pairs_library/U54-H1ESC4DN-FA-DSG-MNase-R2-T2__hg38.null.nodups.pairs.gz',\n",
       " '/net/levsha/share/sergpolly/2019-02-19-uC-Nils-remap/results/pairs_library/U54-HFFc64DN-FA-DSG-MNase-R1-T1__hg38.null.nodups.pairs.gz',\n",
       " '/net/levsha/share/sergpolly/2019-02-19-uC-Nils-remap/results/pairs_library/U54-HFFc64DN-FA-DSG-MNase-R1-T3__hg38.null.nodups.pairs.gz',\n",
       " '/net/levsha/share/sergpolly/2019-02-19-uC-Nils-remap/results/pairs_library/U54-HFFc64DN-FA-DSG-MNase-R1-T4__hg38.null.nodups.pairs.gz',\n",
       " '/net/levsha/share/sergpolly/2019-02-19-uC-Nils-remap/results/pairs_library/U54-HFFc64DN-FA-DSG-MNase-R2-T2__hg38.null.nodups.pairs.gz',\n",
       " '/net/levsha/share/sergpolly/2019-02-19-uC-Nils-remap/results/pairs_library/U54-HFFc64DN-FA-DSG-MNase-R2-T4__hg38.null.nodups.pairs.gz',\n",
       " '/net/levsha/share/sergpolly/2019-02-19-uC-Nils-remap/results/pairs_library/U54-H1ESC4DN-FA-DSG-MNase-R1-T2__hg38.null.nodups.pairs.gz',\n",
       " '/net/levsha/share/sergpolly/2019-02-19-uC-Nils-remap/results/pairs_library/U54-H1ESC4DN-FA-DSG-MNase-R2-T5__hg38.null.nodups.pairs.gz',\n",
       " '/net/levsha/share/sergpolly/2019-02-19-uC-Nils-remap/results/pairs_library/U54-HFFc64DN-FA-DSG-MNase-R1-T6__hg38.null.nodups.pairs.gz',\n",
       " '/net/levsha/share/sergpolly/2019-02-19-uC-Nils-remap/results/pairs_library/U54-HFFc64DN-FA-DSG-MNase-R2-T1__hg38.null.nodups.pairs.gz',\n",
       " '/net/levsha/share/sergpolly/2019-02-19-uC-Nils-remap/results/pairs_library/U54-HFFc64DN-FA-DSG-MNase-R2-T3__hg38.null.nodups.pairs.gz',\n",
       " '/net/levsha/share/sergpolly/2019-02-19-uC-Nils-remap/results/pairs_library/U54-HFFc64DN-FA-DSG-MNase-R2-T5__hg38.null.nodups.pairs.gz',\n",
       " '/net/levsha/share/sergpolly/2019-02-19-uC-Nils-remap/results/pairs_library/U54-H1ESC4DN-FA-DSG-MNase-R2-T3__hg38.null.nodups.pairs.gz',\n",
       " '/net/levsha/share/sergpolly/2019-02-19-uC-Nils-remap/results/pairs_library/U54-H1ESC4DN-FA-DSG-MNase-R2-T4__hg38.null.nodups.pairs.gz',\n",
       " '/net/levsha/share/sergpolly/2019-02-19-uC-Nils-remap/results/pairs_library/U54-H1ESC4DN-FA-DSG-MNase-R1-T4__hg38.null.nodups.pairs.gz',\n",
       " '/net/levsha/share/sergpolly/2019-02-19-uC-Nils-remap/results/pairs_library/U54-H1ESC4DN-FA-DSG-MNase-R2-T1__hg38.null.nodups.pairs.gz']"
      ]
     },
     "execution_count": 14,
     "metadata": {},
     "output_type": "execute_result"
    }
   ],
   "source": [
    "glob.glob('/net/levsha/share/sergpolly/2019-02-19-uC-Nils-remap/results/pairs_library/*nodups*pairs.gz')"
   ]
  },
  {
   "cell_type": "code",
   "execution_count": 3,
   "metadata": {
    "ExecuteTime": {
     "end_time": "2019-04-01T20:52:18.089725Z",
     "start_time": "2019-04-01T20:52:17.960630Z"
    }
   },
   "outputs": [
    {
     "name": "stdout",
     "output_type": "stream",
     "text": [
      "U54-H1ESC4DN-FA-DSG-MNase-R1-T1__hg38.null.dedup.stats\r\n",
      "U54-H1ESC4DN-FA-DSG-MNase-R1-T1__hg38.null.dups.bam\r\n",
      "U54-H1ESC4DN-FA-DSG-MNase-R1-T1__hg38.null.dups.pairs.gz\r\n",
      "U54-H1ESC4DN-FA-DSG-MNase-R1-T1__hg38.null.nodups.bam\r\n",
      "U54-H1ESC4DN-FA-DSG-MNase-R1-T1__hg38.null.nodups.pairs.gz\r\n",
      "U54-H1ESC4DN-FA-DSG-MNase-R1-T1__hg38.null.nodups.pairs.gz.px2\r\n",
      "U54-H1ESC4DN-FA-DSG-MNase-R1-T1__hg38.null.unmapped.bam\r\n",
      "U54-H1ESC4DN-FA-DSG-MNase-R1-T1__hg38.null.unmapped.pairs.gz\r\n",
      "U54-H1ESC4DN-FA-DSG-MNase-R1-T2__hg38.null.dedup.stats\r\n",
      "U54-H1ESC4DN-FA-DSG-MNase-R1-T2__hg38.null.dups.bam\r\n",
      "U54-H1ESC4DN-FA-DSG-MNase-R1-T2__hg38.null.dups.pairs.gz\r\n",
      "U54-H1ESC4DN-FA-DSG-MNase-R1-T2__hg38.null.nodups.bam\r\n",
      "U54-H1ESC4DN-FA-DSG-MNase-R1-T2__hg38.null.nodups.pairs.gz\r\n",
      "U54-H1ESC4DN-FA-DSG-MNase-R1-T2__hg38.null.nodups.pairs.gz.px2\r\n",
      "U54-H1ESC4DN-FA-DSG-MNase-R1-T2__hg38.null.unmapped.bam\r\n",
      "U54-H1ESC4DN-FA-DSG-MNase-R1-T2__hg38.null.unmapped.pairs.gz\r\n",
      "U54-H1ESC4DN-FA-DSG-MNase-R1-T3__hg38.null.dedup.stats\r\n",
      "U54-H1ESC4DN-FA-DSG-MNase-R1-T3__hg38.null.dups.bam\r\n",
      "U54-H1ESC4DN-FA-DSG-MNase-R1-T3__hg38.null.dups.pairs.gz\r\n",
      "U54-H1ESC4DN-FA-DSG-MNase-R1-T3__hg38.null.nodups.bam\r\n",
      "U54-H1ESC4DN-FA-DSG-MNase-R1-T3__hg38.null.nodups.pairs.gz\r\n",
      "U54-H1ESC4DN-FA-DSG-MNase-R1-T3__hg38.null.nodups.pairs.gz.px2\r\n",
      "U54-H1ESC4DN-FA-DSG-MNase-R1-T3__hg38.null.unmapped.bam\r\n",
      "U54-H1ESC4DN-FA-DSG-MNase-R1-T3__hg38.null.unmapped.pairs.gz\r\n",
      "U54-H1ESC4DN-FA-DSG-MNase-R1-T4__hg38.null.dedup.stats\r\n",
      "U54-H1ESC4DN-FA-DSG-MNase-R1-T4__hg38.null.dups.bam\r\n",
      "U54-H1ESC4DN-FA-DSG-MNase-R1-T4__hg38.null.dups.pairs.gz\r\n",
      "U54-H1ESC4DN-FA-DSG-MNase-R1-T4__hg38.null.nodups.bam\r\n",
      "U54-H1ESC4DN-FA-DSG-MNase-R1-T4__hg38.null.nodups.pairs.gz\r\n",
      "U54-H1ESC4DN-FA-DSG-MNase-R1-T4__hg38.null.nodups.pairs.gz.px2\r\n",
      "U54-H1ESC4DN-FA-DSG-MNase-R1-T4__hg38.null.unmapped.bam\r\n",
      "U54-H1ESC4DN-FA-DSG-MNase-R1-T4__hg38.null.unmapped.pairs.gz\r\n",
      "U54-H1ESC4DN-FA-DSG-MNase-R2-T1__hg38.null.dedup.stats\r\n",
      "U54-H1ESC4DN-FA-DSG-MNase-R2-T1__hg38.null.dups.bam\r\n",
      "U54-H1ESC4DN-FA-DSG-MNase-R2-T1__hg38.null.dups.pairs.gz\r\n",
      "U54-H1ESC4DN-FA-DSG-MNase-R2-T1__hg38.null.nodups.bam\r\n",
      "U54-H1ESC4DN-FA-DSG-MNase-R2-T1__hg38.null.nodups.pairs.gz\r\n",
      "U54-H1ESC4DN-FA-DSG-MNase-R2-T1__hg38.null.nodups.pairs.gz.px2\r\n",
      "U54-H1ESC4DN-FA-DSG-MNase-R2-T1__hg38.null.unmapped.bam\r\n",
      "U54-H1ESC4DN-FA-DSG-MNase-R2-T1__hg38.null.unmapped.pairs.gz\r\n",
      "U54-H1ESC4DN-FA-DSG-MNase-R2-T2__hg38.null.dedup.stats\r\n",
      "U54-H1ESC4DN-FA-DSG-MNase-R2-T2__hg38.null.dups.bam\r\n",
      "U54-H1ESC4DN-FA-DSG-MNase-R2-T2__hg38.null.dups.pairs.gz\r\n",
      "U54-H1ESC4DN-FA-DSG-MNase-R2-T2__hg38.null.nodups.bam\r\n",
      "U54-H1ESC4DN-FA-DSG-MNase-R2-T2__hg38.null.nodups.pairs.gz\r\n",
      "U54-H1ESC4DN-FA-DSG-MNase-R2-T2__hg38.null.nodups.pairs.gz.px2\r\n",
      "U54-H1ESC4DN-FA-DSG-MNase-R2-T2__hg38.null.unmapped.bam\r\n",
      "U54-H1ESC4DN-FA-DSG-MNase-R2-T2__hg38.null.unmapped.pairs.gz\r\n",
      "U54-H1ESC4DN-FA-DSG-MNase-R2-T3__hg38.null.dedup.stats\r\n",
      "U54-H1ESC4DN-FA-DSG-MNase-R2-T3__hg38.null.dups.bam\r\n",
      "U54-H1ESC4DN-FA-DSG-MNase-R2-T3__hg38.null.dups.pairs.gz\r\n",
      "U54-H1ESC4DN-FA-DSG-MNase-R2-T3__hg38.null.nodups.bam\r\n",
      "U54-H1ESC4DN-FA-DSG-MNase-R2-T3__hg38.null.nodups.pairs.gz\r\n",
      "U54-H1ESC4DN-FA-DSG-MNase-R2-T3__hg38.null.nodups.pairs.gz.px2\r\n",
      "U54-H1ESC4DN-FA-DSG-MNase-R2-T3__hg38.null.unmapped.bam\r\n",
      "U54-H1ESC4DN-FA-DSG-MNase-R2-T3__hg38.null.unmapped.pairs.gz\r\n",
      "U54-H1ESC4DN-FA-DSG-MNase-R2-T4__hg38.null.dedup.stats\r\n",
      "U54-H1ESC4DN-FA-DSG-MNase-R2-T4__hg38.null.dups.bam\r\n",
      "U54-H1ESC4DN-FA-DSG-MNase-R2-T4__hg38.null.dups.pairs.gz\r\n",
      "U54-H1ESC4DN-FA-DSG-MNase-R2-T4__hg38.null.nodups.bam\r\n",
      "U54-H1ESC4DN-FA-DSG-MNase-R2-T4__hg38.null.nodups.pairs.gz\r\n",
      "U54-H1ESC4DN-FA-DSG-MNase-R2-T4__hg38.null.nodups.pairs.gz.px2\r\n",
      "U54-H1ESC4DN-FA-DSG-MNase-R2-T4__hg38.null.unmapped.bam\r\n",
      "U54-H1ESC4DN-FA-DSG-MNase-R2-T4__hg38.null.unmapped.pairs.gz\r\n",
      "U54-H1ESC4DN-FA-DSG-MNase-R2-T5__hg38.null.dedup.stats\r\n",
      "U54-H1ESC4DN-FA-DSG-MNase-R2-T5__hg38.null.dups.bam\r\n",
      "U54-H1ESC4DN-FA-DSG-MNase-R2-T5__hg38.null.dups.pairs.gz\r\n",
      "U54-H1ESC4DN-FA-DSG-MNase-R2-T5__hg38.null.nodups.bam\r\n",
      "U54-H1ESC4DN-FA-DSG-MNase-R2-T5__hg38.null.nodups.pairs.gz\r\n",
      "U54-H1ESC4DN-FA-DSG-MNase-R2-T5__hg38.null.nodups.pairs.gz.px2\r\n",
      "U54-H1ESC4DN-FA-DSG-MNase-R2-T5__hg38.null.unmapped.bam\r\n",
      "U54-H1ESC4DN-FA-DSG-MNase-R2-T5__hg38.null.unmapped.pairs.gz\r\n",
      "U54-HFFc64DN-FA-DSG-MNase-R1-T1__hg38.null.dedup.stats\r\n",
      "U54-HFFc64DN-FA-DSG-MNase-R1-T1__hg38.null.dups.bam\r\n",
      "U54-HFFc64DN-FA-DSG-MNase-R1-T1__hg38.null.dups.pairs.gz\r\n",
      "U54-HFFc64DN-FA-DSG-MNase-R1-T1__hg38.null.nodups.bam\r\n",
      "U54-HFFc64DN-FA-DSG-MNase-R1-T1__hg38.null.nodups.pairs.gz\r\n",
      "U54-HFFc64DN-FA-DSG-MNase-R1-T1__hg38.null.nodups.pairs.gz.px2\r\n",
      "U54-HFFc64DN-FA-DSG-MNase-R1-T1__hg38.null.unmapped.bam\r\n",
      "U54-HFFc64DN-FA-DSG-MNase-R1-T1__hg38.null.unmapped.pairs.gz\r\n",
      "U54-HFFc64DN-FA-DSG-MNase-R1-T2__hg38.null.dedup.stats\r\n",
      "U54-HFFc64DN-FA-DSG-MNase-R1-T2__hg38.null.dups.bam\r\n",
      "U54-HFFc64DN-FA-DSG-MNase-R1-T2__hg38.null.dups.pairs.gz\r\n",
      "U54-HFFc64DN-FA-DSG-MNase-R1-T2__hg38.null.nodups.bam\r\n",
      "U54-HFFc64DN-FA-DSG-MNase-R1-T2__hg38.null.nodups.pairs.gz\r\n",
      "U54-HFFc64DN-FA-DSG-MNase-R1-T2__hg38.null.nodups.pairs.gz.px2\r\n",
      "U54-HFFc64DN-FA-DSG-MNase-R1-T2__hg38.null.unmapped.bam\r\n",
      "U54-HFFc64DN-FA-DSG-MNase-R1-T2__hg38.null.unmapped.pairs.gz\r\n",
      "U54-HFFc64DN-FA-DSG-MNase-R1-T3__hg38.null.dedup.stats\r\n",
      "U54-HFFc64DN-FA-DSG-MNase-R1-T3__hg38.null.dups.bam\r\n",
      "U54-HFFc64DN-FA-DSG-MNase-R1-T3__hg38.null.dups.pairs.gz\r\n",
      "U54-HFFc64DN-FA-DSG-MNase-R1-T3__hg38.null.nodups.bam\r\n",
      "U54-HFFc64DN-FA-DSG-MNase-R1-T3__hg38.null.nodups.pairs.gz\r\n",
      "U54-HFFc64DN-FA-DSG-MNase-R1-T3__hg38.null.nodups.pairs.gz.px2\r\n",
      "U54-HFFc64DN-FA-DSG-MNase-R1-T3__hg38.null.unmapped.bam\r\n",
      "U54-HFFc64DN-FA-DSG-MNase-R1-T3__hg38.null.unmapped.pairs.gz\r\n",
      "U54-HFFc64DN-FA-DSG-MNase-R1-T4__hg38.null.dedup.stats\r\n",
      "U54-HFFc64DN-FA-DSG-MNase-R1-T4__hg38.null.dups.bam\r\n",
      "U54-HFFc64DN-FA-DSG-MNase-R1-T4__hg38.null.dups.pairs.gz\r\n",
      "U54-HFFc64DN-FA-DSG-MNase-R1-T4__hg38.null.nodups.bam\r\n",
      "U54-HFFc64DN-FA-DSG-MNase-R1-T4__hg38.null.nodups.pairs.gz\r\n",
      "U54-HFFc64DN-FA-DSG-MNase-R1-T4__hg38.null.nodups.pairs.gz.px2\r\n",
      "U54-HFFc64DN-FA-DSG-MNase-R1-T4__hg38.null.unmapped.bam\r\n",
      "U54-HFFc64DN-FA-DSG-MNase-R1-T4__hg38.null.unmapped.pairs.gz\r\n",
      "U54-HFFc64DN-FA-DSG-MNase-R1-T5__hg38.null.dedup.stats\r\n",
      "U54-HFFc64DN-FA-DSG-MNase-R1-T5__hg38.null.dups.bam\r\n",
      "U54-HFFc64DN-FA-DSG-MNase-R1-T5__hg38.null.dups.pairs.gz\r\n",
      "U54-HFFc64DN-FA-DSG-MNase-R1-T5__hg38.null.nodups.bam\r\n",
      "U54-HFFc64DN-FA-DSG-MNase-R1-T5__hg38.null.nodups.pairs.gz\r\n",
      "U54-HFFc64DN-FA-DSG-MNase-R1-T5__hg38.null.nodups.pairs.gz.px2\r\n",
      "U54-HFFc64DN-FA-DSG-MNase-R1-T5__hg38.null.unmapped.bam\r\n",
      "U54-HFFc64DN-FA-DSG-MNase-R1-T5__hg38.null.unmapped.pairs.gz\r\n",
      "U54-HFFc64DN-FA-DSG-MNase-R1-T6__hg38.null.dedup.stats\r\n",
      "U54-HFFc64DN-FA-DSG-MNase-R1-T6__hg38.null.dups.bam\r\n",
      "U54-HFFc64DN-FA-DSG-MNase-R1-T6__hg38.null.dups.pairs.gz\r\n",
      "U54-HFFc64DN-FA-DSG-MNase-R1-T6__hg38.null.nodups.bam\r\n",
      "U54-HFFc64DN-FA-DSG-MNase-R1-T6__hg38.null.nodups.pairs.gz\r\n",
      "U54-HFFc64DN-FA-DSG-MNase-R1-T6__hg38.null.nodups.pairs.gz.px2\r\n",
      "U54-HFFc64DN-FA-DSG-MNase-R1-T6__hg38.null.unmapped.bam\r\n",
      "U54-HFFc64DN-FA-DSG-MNase-R1-T6__hg38.null.unmapped.pairs.gz\r\n",
      "U54-HFFc64DN-FA-DSG-MNase-R2-T1__hg38.null.dedup.stats\r\n",
      "U54-HFFc64DN-FA-DSG-MNase-R2-T1__hg38.null.dups.bam\r\n",
      "U54-HFFc64DN-FA-DSG-MNase-R2-T1__hg38.null.dups.pairs.gz\r\n",
      "U54-HFFc64DN-FA-DSG-MNase-R2-T1__hg38.null.nodups.bam\r\n",
      "U54-HFFc64DN-FA-DSG-MNase-R2-T1__hg38.null.nodups.pairs.gz\r\n",
      "U54-HFFc64DN-FA-DSG-MNase-R2-T1__hg38.null.nodups.pairs.gz.px2\r\n",
      "U54-HFFc64DN-FA-DSG-MNase-R2-T1__hg38.null.unmapped.bam\r\n",
      "U54-HFFc64DN-FA-DSG-MNase-R2-T1__hg38.null.unmapped.pairs.gz\r\n",
      "U54-HFFc64DN-FA-DSG-MNase-R2-T2__hg38.null.dedup.stats\r\n",
      "U54-HFFc64DN-FA-DSG-MNase-R2-T2__hg38.null.dups.bam\r\n",
      "U54-HFFc64DN-FA-DSG-MNase-R2-T2__hg38.null.dups.pairs.gz\r\n",
      "U54-HFFc64DN-FA-DSG-MNase-R2-T2__hg38.null.nodups.bam\r\n",
      "U54-HFFc64DN-FA-DSG-MNase-R2-T2__hg38.null.nodups.pairs.gz\r\n",
      "U54-HFFc64DN-FA-DSG-MNase-R2-T2__hg38.null.nodups.pairs.gz.px2\r\n",
      "U54-HFFc64DN-FA-DSG-MNase-R2-T2__hg38.null.unmapped.bam\r\n",
      "U54-HFFc64DN-FA-DSG-MNase-R2-T2__hg38.null.unmapped.pairs.gz\r\n",
      "U54-HFFc64DN-FA-DSG-MNase-R2-T3__hg38.null.dedup.stats\r\n",
      "U54-HFFc64DN-FA-DSG-MNase-R2-T3__hg38.null.dups.bam\r\n",
      "U54-HFFc64DN-FA-DSG-MNase-R2-T3__hg38.null.dups.pairs.gz\r\n",
      "U54-HFFc64DN-FA-DSG-MNase-R2-T3__hg38.null.nodups.bam\r\n",
      "U54-HFFc64DN-FA-DSG-MNase-R2-T3__hg38.null.nodups.pairs.gz\r\n",
      "U54-HFFc64DN-FA-DSG-MNase-R2-T3__hg38.null.nodups.pairs.gz.px2\r\n",
      "U54-HFFc64DN-FA-DSG-MNase-R2-T3__hg38.null.unmapped.bam\r\n",
      "U54-HFFc64DN-FA-DSG-MNase-R2-T3__hg38.null.unmapped.pairs.gz\r\n",
      "U54-HFFc64DN-FA-DSG-MNase-R2-T4__hg38.null.dedup.stats\r\n",
      "U54-HFFc64DN-FA-DSG-MNase-R2-T4__hg38.null.dups.bam\r\n",
      "U54-HFFc64DN-FA-DSG-MNase-R2-T4__hg38.null.dups.pairs.gz\r\n",
      "U54-HFFc64DN-FA-DSG-MNase-R2-T4__hg38.null.nodups.bam\r\n",
      "U54-HFFc64DN-FA-DSG-MNase-R2-T4__hg38.null.nodups.pairs.gz\r\n",
      "U54-HFFc64DN-FA-DSG-MNase-R2-T4__hg38.null.nodups.pairs.gz.px2\r\n",
      "U54-HFFc64DN-FA-DSG-MNase-R2-T4__hg38.null.unmapped.bam\r\n",
      "U54-HFFc64DN-FA-DSG-MNase-R2-T4__hg38.null.unmapped.pairs.gz\r\n",
      "U54-HFFc64DN-FA-DSG-MNase-R2-T5__hg38.null.dedup.stats\r\n",
      "U54-HFFc64DN-FA-DSG-MNase-R2-T5__hg38.null.dups.bam\r\n",
      "U54-HFFc64DN-FA-DSG-MNase-R2-T5__hg38.null.dups.pairs.gz\r\n",
      "U54-HFFc64DN-FA-DSG-MNase-R2-T5__hg38.null.nodups.bam\r\n",
      "U54-HFFc64DN-FA-DSG-MNase-R2-T5__hg38.null.nodups.pairs.gz\r\n",
      "U54-HFFc64DN-FA-DSG-MNase-R2-T5__hg38.null.nodups.pairs.gz.px2\r\n",
      "U54-HFFc64DN-FA-DSG-MNase-R2-T5__hg38.null.unmapped.bam\r\n",
      "U54-HFFc64DN-FA-DSG-MNase-R2-T5__hg38.null.unmapped.pairs.gz\r\n"
     ]
    }
   ],
   "source": [
    "! ls /net/levsha/share/sergpolly/2019-02-19-uC-Nils-remap/results/pairs_library/"
   ]
  },
  {
   "cell_type": "code",
   "execution_count": 17,
   "metadata": {
    "ExecuteTime": {
     "end_time": "2019-04-03T15:47:13.694307Z",
     "start_time": "2019-04-03T15:47:13.310450Z"
    },
    "scrolled": false
   },
   "outputs": [
    {
     "data": {
      "text/plain": [
       "array(['U54-HFFc6-p22-FA-DpnII-20170327__hg38.null.nodups.pairs.gz'],\n",
       "      dtype='<U60')"
      ]
     },
     "execution_count": 17,
     "metadata": {},
     "output_type": "execute_result"
    }
   ],
   "source": [
    "hg38 = bioframe.fetch_chromsizes('hg38')\n",
    "chromsizes = bioframe.fetch_chromsizes('hg38')\n",
    "chromosomes = list(chromsizes.index)\n",
    "files = []\n",
    "for item in os.listdir('/net/levsha/share/sergpolly/2019-02-19-HiC-Nils-remap/results/pairs_library/'):\n",
    "    if 'nodup' not in item:\n",
    "        continue\n",
    "    if 'bam' in item:\n",
    "        continue\n",
    "    if 'px2' in item:\n",
    "        continue\n",
    "    if 'hg38' not in item:\n",
    "        continue\n",
    "#     if 'DSG' in item:\n",
    "#         continue\n",
    "    files.append(item)\n",
    "# files = [file for file in files if ('ESC' in file)]\n",
    "files = np.sort(np.array(files))\n",
    "files = files[-1:]\n",
    "files"
   ]
  },
  {
   "cell_type": "code",
   "execution_count": 9,
   "metadata": {
    "ExecuteTime": {
     "end_time": "2019-04-03T00:54:58.745581Z",
     "start_time": "2019-04-03T00:54:58.738852Z"
    },
    "scrolled": true
   },
   "outputs": [
    {
     "data": {
      "text/plain": [
       "chr1     248956422\n",
       "chr2     242193529\n",
       "chr3     198295559\n",
       "chr4     190214555\n",
       "chr5     181538259\n",
       "chr6     170805979\n",
       "chr7     159345973\n",
       "chr8     145138636\n",
       "chr9     138394717\n",
       "chr10    133797422\n",
       "chr11    135086622\n",
       "chr12    133275309\n",
       "chr13    114364328\n",
       "chr14    107043718\n",
       "chr15    101991189\n",
       "chr16     90338345\n",
       "chr17     83257441\n",
       "chr18     80373285\n",
       "chr19     58617616\n",
       "chr20     64444167\n",
       "chr21     46709983\n",
       "chr22     50818468\n",
       "chrX     156040895\n",
       "chrY      57227415\n",
       "chrM         16569\n",
       "Name: length, dtype: int64"
      ]
     },
     "execution_count": 9,
     "metadata": {},
     "output_type": "execute_result"
    }
   ],
   "source": [
    "chromsizes"
   ]
  },
  {
   "cell_type": "code",
   "execution_count": 18,
   "metadata": {
    "ExecuteTime": {
     "end_time": "2019-04-03T15:47:25.540571Z",
     "start_time": "2019-04-03T15:47:19.812453Z"
    },
    "scrolled": true
   },
   "outputs": [
    {
     "name": "stdout",
     "output_type": "stream",
     "text": [
      "/net/levsha/share/sergpolly/2019-02-19-HiC-Nils-remap/results/pairs_library/U54-HFFc6-p22-FA-DpnII-20170327__hg38.null.nodups.pairs.gz\n"
     ]
    }
   ],
   "source": [
    "pairs = []\n",
    "for file in files:\n",
    "#     try:\n",
    "        path =  f'/net/levsha/share/sergpolly/2019-02-19-HiC-Nils-remap/results/pairs_library/{file}'\n",
    "        print(path)\n",
    "        ppx = bioframe.dask.read_pairix(path,\n",
    "        chromsizes=hg38, \n",
    "        names=['read_id', 'chrom1', 'pos1', 'chrom2', 'pos2', 'strand1', 'strand2', 'pair_type', 'mapq1', 'mapq2'])\n",
    "        pairs.append(ppx)\n",
    "#     except:\n",
    "#         print('Error')\n",
    "    "
   ]
  },
  {
   "cell_type": "code",
   "execution_count": 19,
   "metadata": {
    "ExecuteTime": {
     "end_time": "2019-04-03T16:02:10.036676Z",
     "start_time": "2019-04-03T15:48:01.402237Z"
    },
    "scrolled": true
   },
   "outputs": [
    {
     "name": "stdout",
     "output_type": "stream",
     "text": [
      "U54-HFFc6-p22-FA-DpnII-20170327__hg38\n",
      "chr1 chr1\n"
     ]
    },
    {
     "name": "stderr",
     "output_type": "stream",
     "text": [
      "ERROR:root:Internal Python error in the inspect module.\n",
      "Below is the traceback from this internal error.\n",
      "\n"
     ]
    },
    {
     "name": "stdout",
     "output_type": "stream",
     "text": [
      "Traceback (most recent call last):\n",
      "  File \"/home/sameer/miniconda3/lib/python3.6/site-packages/IPython/core/interactiveshell.py\", line 2910, in run_code\n",
      "    exec(code_obj, self.user_global_ns, self.user_ns)\n",
      "  File \"<ipython-input-19-8ddfcce382b4>\", line 14, in <module>\n",
      "    table = pa.Table.from_pandas(df.compute(), preserve_index=False)\n",
      "  File \"/home/sameer/miniconda3/lib/python3.6/site-packages/dask/base.py\", line 143, in compute\n",
      "    (result,) = compute(self, traverse=False, **kwargs)\n",
      "  File \"/home/sameer/miniconda3/lib/python3.6/site-packages/dask/base.py\", line 392, in compute\n",
      "    results = get(dsk, keys, **kwargs)\n",
      "  File \"/home/sameer/miniconda3/lib/python3.6/site-packages/dask/threaded.py\", line 75, in get\n",
      "    pack_exception=pack_exception, **kwargs)\n",
      "  File \"/home/sameer/miniconda3/lib/python3.6/site-packages/dask/local.py\", line 512, in get_async\n",
      "    key, res_info, failed = queue_get(queue)\n",
      "  File \"/home/sameer/miniconda3/lib/python3.6/site-packages/dask/local.py\", line 151, in queue_get\n",
      "    return q.get()\n",
      "  File \"/home/sameer/miniconda3/lib/python3.6/queue.py\", line 164, in get\n",
      "    self.not_empty.wait()\n",
      "  File \"/home/sameer/miniconda3/lib/python3.6/threading.py\", line 295, in wait\n",
      "    waiter.acquire()\n",
      "KeyboardInterrupt\n",
      "\n",
      "During handling of the above exception, another exception occurred:\n",
      "\n",
      "Traceback (most recent call last):\n",
      "  File \"/home/sameer/miniconda3/lib/python3.6/site-packages/IPython/core/interactiveshell.py\", line 1828, in showtraceback\n",
      "    stb = value._render_traceback_()\n",
      "AttributeError: 'KeyboardInterrupt' object has no attribute '_render_traceback_'\n",
      "\n",
      "During handling of the above exception, another exception occurred:\n",
      "\n",
      "Traceback (most recent call last):\n",
      "  File \"/home/sameer/miniconda3/lib/python3.6/site-packages/IPython/core/ultratb.py\", line 1090, in get_records\n",
      "    return _fixed_getinnerframes(etb, number_of_lines_of_context, tb_offset)\n",
      "  File \"/home/sameer/miniconda3/lib/python3.6/site-packages/IPython/core/ultratb.py\", line 311, in wrapped\n",
      "    return f(*args, **kwargs)\n",
      "  File \"/home/sameer/miniconda3/lib/python3.6/site-packages/IPython/core/ultratb.py\", line 345, in _fixed_getinnerframes\n",
      "    records = fix_frame_records_filenames(inspect.getinnerframes(etb, context))\n",
      "  File \"/home/sameer/miniconda3/lib/python3.6/inspect.py\", line 1483, in getinnerframes\n",
      "    frameinfo = (tb.tb_frame,) + getframeinfo(tb, context)\n",
      "  File \"/home/sameer/miniconda3/lib/python3.6/inspect.py\", line 1445, in getframeinfo\n",
      "    lines, lnum = findsource(frame)\n",
      "  File \"/home/sameer/miniconda3/lib/python3.6/site-packages/IPython/core/ultratb.py\", line 165, in findsource\n",
      "    file = getsourcefile(object) or getfile(object)\n",
      "  File \"/home/sameer/miniconda3/lib/python3.6/inspect.py\", line 693, in getsourcefile\n",
      "    if os.path.exists(filename):\n",
      "  File \"/home/sameer/miniconda3/lib/python3.6/genericpath.py\", line 19, in exists\n",
      "    os.stat(path)\n",
      "KeyboardInterrupt\n"
     ]
    },
    {
     "ename": "KeyboardInterrupt",
     "evalue": "",
     "output_type": "error",
     "traceback": [
      "\u001b[0;31m---------------------------------------------------------------------------\u001b[0m"
     ]
    }
   ],
   "source": [
    "chunksize = int(1e6)\n",
    "for i, pair in enumerate(pairs):\n",
    "    name = files[i]\n",
    "    name = name[0:name.find('.null')]\n",
    "    print(name)\n",
    "    for j, (chrom1, chrom2) in enumerate(comb(list(hg38.index), 2)):\n",
    "        print(chrom1, chrom2)\n",
    "        try:\n",
    "            df = pair[chrom1, chrom2]\n",
    "        except KeyError:\n",
    "            print(\"Didn't find \", chrom1, chrom2)\n",
    "            continue\n",
    "\n",
    "        table = pa.Table.from_pandas(df.compute(), preserve_index=False)\n",
    "        if j == 0:\n",
    "            writer = pa.parquet.ParquetWriter(\n",
    "                f'/net/levsha/share/sameer/U54/microc/pairq/{name}.pairs.pq',\n",
    "                table.schema,\n",
    "                compression='snappy',\n",
    "                use_dictionary=True,\n",
    "                version='2.0')\n",
    "            writer.write_table(table, row_group_size=chunksize)\n",
    "        else:\n",
    "            writer.write_table(table, row_group_size=chunksize)\n",
    "\n",
    "    writer.close()"
   ]
  },
  {
   "cell_type": "code",
   "execution_count": 3,
   "metadata": {
    "ExecuteTime": {
     "end_time": "2019-04-29T22:20:55.574177Z",
     "start_time": "2019-04-29T22:20:55.526993Z"
    }
   },
   "outputs": [],
   "source": [
    "f = pa.parquet.ParquetFile(f'/net/levsha/share/sameer/U54/microc/pairq/U54-H1ESC4DN-FA-DSG-MNase-R1-T4__hg38.pairs.pq')"
   ]
  },
  {
   "cell_type": "code",
   "execution_count": null,
   "metadata": {},
   "outputs": [],
   "source": [
    "f.metadata"
   ]
  },
  {
   "cell_type": "code",
   "execution_count": null,
   "metadata": {
    "ExecuteTime": {
     "end_time": "2018-09-24T21:08:06.093838Z",
     "start_time": "2018-09-24T21:08:06.087553Z"
    }
   },
   "outputs": [],
   "source": [
    "files"
   ]
  },
  {
   "cell_type": "code",
   "execution_count": null,
   "metadata": {},
   "outputs": [],
   "source": []
  },
  {
   "cell_type": "code",
   "execution_count": null,
   "metadata": {
    "scrolled": true
   },
   "outputs": [],
   "source": []
  },
  {
   "cell_type": "code",
   "execution_count": null,
   "metadata": {},
   "outputs": [],
   "source": []
  },
  {
   "cell_type": "code",
   "execution_count": null,
   "metadata": {},
   "outputs": [],
   "source": []
  },
  {
   "cell_type": "code",
   "execution_count": null,
   "metadata": {
    "scrolled": true
   },
   "outputs": [],
   "source": []
  },
  {
   "cell_type": "code",
   "execution_count": null,
   "metadata": {},
   "outputs": [],
   "source": []
  },
  {
   "cell_type": "code",
   "execution_count": null,
   "metadata": {},
   "outputs": [],
   "source": []
  },
  {
   "cell_type": "code",
   "execution_count": null,
   "metadata": {},
   "outputs": [],
   "source": []
  },
  {
   "cell_type": "code",
   "execution_count": null,
   "metadata": {},
   "outputs": [],
   "source": []
  }
 ],
 "metadata": {
  "_draft": {
   "nbviewer_url": "https://gist.github.com/77a9976fa42623cfffe73189491e274b"
  },
  "gist": {
   "data": {
    "description": "net/levsha/share/sameer/U54/uC/pairs_to_parquet.ipynb",
    "public": false
   },
   "id": "77a9976fa42623cfffe73189491e274b"
  },
  "kernelspec": {
   "display_name": "Python 3",
   "language": "python",
   "name": "python3"
  },
  "language_info": {
   "codemirror_mode": {
    "name": "ipython",
    "version": 3
   },
   "file_extension": ".py",
   "mimetype": "text/x-python",
   "name": "python",
   "nbconvert_exporter": "python",
   "pygments_lexer": "ipython3",
   "version": "3.7.10"
  }
 },
 "nbformat": 4,
 "nbformat_minor": 2
}
